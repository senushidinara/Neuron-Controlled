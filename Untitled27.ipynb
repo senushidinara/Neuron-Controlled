{
  "nbformat": 4,
  "nbformat_minor": 0,
  "metadata": {
    "colab": {
      "provenance": [],
      "authorship_tag": "ABX9TyNbDhNTJxhURKHEq+JU78S3",
      "include_colab_link": true
    },
    "kernelspec": {
      "name": "python3",
      "display_name": "Python 3"
    },
    "language_info": {
      "name": "python"
    }
  },
  "cells": [
    {
      "cell_type": "markdown",
      "metadata": {
        "id": "view-in-github",
        "colab_type": "text"
      },
      "source": [
        "<a href=\"https://colab.research.google.com/github/senushidinara/Neuron-Controlled/blob/main/Untitled27.ipynb\" target=\"_parent\"><img src=\"https://colab.research.google.com/assets/colab-badge.svg\" alt=\"Open In Colab\"/></a>"
      ]
    },
    {
      "cell_type": "code",
      "execution_count": null,
      "metadata": {
        "colab": {
          "base_uri": "https://localhost:8080/"
        },
        "id": "VqSN_2eYQ7Mr",
        "outputId": "39980ff1-c3fc-41c8-e65b-58a522546954"
      },
      "outputs": [
        {
          "output_type": "stream",
          "name": "stdout",
          "text": [
            "Training the agent...\n"
          ]
        },
        {
          "output_type": "stream",
          "name": "stderr",
          "text": [
            "/usr/local/lib/python3.12/dist-packages/stable_baselines3/common/vec_env/patch_gym.py:49: UserWarning: You provided an OpenAI Gym environment. We strongly recommend transitioning to Gymnasium environments. Stable-Baselines3 is automatically wrapping your environments in a compatibility layer, which could potentially cause issues.\n",
            "  warnings.warn(\n",
            "/usr/local/lib/python3.12/dist-packages/jupyter_client/session.py:203: DeprecationWarning: datetime.datetime.utcnow() is deprecated and scheduled for removal in a future version. Use timezone-aware objects to represent datetimes in UTC: datetime.datetime.now(datetime.UTC).\n",
            "  return datetime.utcnow().replace(tzinfo=utc)\n"
          ]
        },
        {
          "output_type": "stream",
          "name": "stdout",
          "text": [
            "Evaluating the agent...\n"
          ]
        },
        {
          "output_type": "stream",
          "name": "stderr",
          "text": [
            "/usr/local/lib/python3.12/dist-packages/jupyter_client/session.py:203: DeprecationWarning: datetime.datetime.utcnow() is deprecated and scheduled for removal in a future version. Use timezone-aware objects to represent datetimes in UTC: datetime.datetime.now(datetime.UTC).\n",
            "  return datetime.utcnow().replace(tzinfo=utc)\n"
          ]
        }
      ],
      "source": [
        "import numpy as np\n",
        "import gym\n",
        "from stable_baselines3 import PPO\n",
        "from stable_baselines3.common.vec_env import DummyVecEnv\n",
        "import matplotlib.pyplot as plt\n",
        "from mpl_toolkits.mplot3d import Axes3D\n",
        "\n",
        "# Create a custom environment for neuron-controlled simulation\n",
        "class NeuronControlledEnv(gym.Env):\n",
        "    def __init__(self):\n",
        "        super(NeuronControlledEnv, self).__init__()\n",
        "        self.action_space = gym.spaces.Discrete(3)  # Actions: Move, Shoot, Do Nothing\n",
        "        self.observation_space = gym.spaces.Box(low=0, high=1, shape=(10,), dtype=np.float32)  # Richer state space\n",
        "        self.state = self.reset()\n",
        "        self.target_position = np.random.rand(3)  # 3D target\n",
        "        self.enemy_position = np.random.rand(3)  # 3D enemy\n",
        "        self.reward_history = []\n",
        "\n",
        "    def reset(self):\n",
        "        self.state = np.random.rand(10)  # Random initial state\n",
        "        self.target_position = np.random.rand(3)\n",
        "        self.enemy_position = np.random.rand(3)\n",
        "        return self.state\n",
        "\n",
        "    def step(self, action):\n",
        "        # Reward scaling based on distances\n",
        "        reward = 0\n",
        "        distance_to_target = np.linalg.norm(self.target_position - self.state[:3])\n",
        "        distance_to_enemy = np.linalg.norm(self.enemy_position - self.state[:3])\n",
        "\n",
        "        if action == 0:  # Move towards target\n",
        "            reward += (1 / distance_to_target) if distance_to_target > 0 else 5  # Avoid division by zero\n",
        "        elif action == 1:  # Shoot\n",
        "            if distance_to_enemy < 0.1:  # Hit\n",
        "                reward += 5  # Reward for hitting\n",
        "            else:  # Miss\n",
        "                reward -= 1  # Penalty for missing\n",
        "\n",
        "        # Update state with noise\n",
        "        self.state = np.random.rand(10) + np.random.normal(0, 0.1, 10)\n",
        "        done = False  # Define your own condition for episode completion\n",
        "        self.reward_history.append(reward)\n",
        "        return self.state, reward, done, {}\n",
        "\n",
        "    def render(self, save_image=False):\n",
        "        # 3D Visualization\n",
        "        fig = plt.figure()\n",
        "        ax = fig.add_subplot(111, projection='3d')\n",
        "\n",
        "        # Plot target and enemy positions\n",
        "        ax.scatter(self.target_position[0], self.target_position[1], self.target_position[2], color='green', s=150, label='Target', alpha=0.8)\n",
        "        ax.scatter(self.enemy_position[0], self.enemy_position[1], self.enemy_position[2], color='red', s=150, label='Enemy', alpha=0.8)\n",
        "\n",
        "        # Plot the agent's position\n",
        "        ax.scatter(self.state[0], self.state[1], self.state[2], color='blue', s=100, label='Agent', alpha=0.8)\n",
        "\n",
        "        # Set limits and labels\n",
        "        ax.set_xlim(0, 1)\n",
        "        ax.set_ylim(0, 1)\n",
        "        ax.set_zlim(0, 1)\n",
        "        ax.set_title(\"Neuron-Controlled Simulation\", fontsize=16, fontweight='bold', color='darkviolet')\n",
        "        ax.set_xlabel(\"X Position\", fontsize=12)\n",
        "        ax.set_ylabel(\"Y Position\", fontsize=12)\n",
        "        ax.set_zlabel(\"Z Position\", fontsize=12)\n",
        "        ax.legend()\n",
        "        plt.grid(True, linestyle='--', alpha=0.5)\n",
        "\n",
        "        if save_image:\n",
        "            plt.savefig(\"simulation_output.png\")  # Save the figure as an image file\n",
        "        else:\n",
        "            plt.show()  # Show the plot interactively\n",
        "\n",
        "        plt.close(fig)  # Close the figure to avoid displaying multiple images\n",
        "\n",
        "# Train the reinforcement learning agent using PPO\n",
        "def train_agent(num_episodes=10000):\n",
        "    env = DummyVecEnv([lambda: NeuronControlledEnv()])  # Create a vectorized environment\n",
        "    model = PPO('MlpPolicy', env, verbose=0)  # Use the PPO algorithm\n",
        "\n",
        "    model.learn(total_timesteps=num_episodes)\n",
        "    return model\n",
        "\n",
        "# Evaluate the trained model\n",
        "def evaluate_model(model, num_episodes=100):\n",
        "    env = NeuronControlledEnv()\n",
        "    total_rewards = []\n",
        "\n",
        "    for _ in range(num_episodes):\n",
        "        state = env.reset()\n",
        "        total_reward = 0\n",
        "        done = False\n",
        "\n",
        "        while not done:\n",
        "            action, _ = model.predict(state)\n",
        "            state, reward, done, _ = env.step(action)\n",
        "            total_reward += reward\n",
        "\n",
        "        total_rewards.append(total_reward)\n",
        "\n",
        "    env.render(save_image=True)  # Render and save the final state image\n",
        "    return total_rewards\n",
        "\n",
        "# Main function to run the training and evaluation\n",
        "if __name__ == \"__main__\":\n",
        "    print(\"Training the agent...\")\n",
        "    trained_model = train_agent(num_episodes=10000)\n",
        "    print(\"Evaluating the agent...\")\n",
        "    rewards = evaluate_model(trained_model)\n",
        "\n",
        "    # Plotting the evaluation results\n",
        "    plt.figure()\n",
        "    plt.plot(rewards, color='purple', linewidth=2)\n",
        "    plt.title('Total Rewards from Evaluation', fontsize=16, fontweight='bold', color='darkviolet')\n",
        "    plt.xlabel('Episode', fontsize=12)\n",
        "    plt.ylabel('Total Reward', fontsize=12)\n",
        "    plt.grid(True)\n",
        "    plt.show()"
      ]
    },
    {
      "cell_type": "code",
      "metadata": {
        "colab": {
          "base_uri": "https://localhost:8080/"
        },
        "id": "115c6c39",
        "outputId": "25d1ca6f-71a2-4936-b248-4a074d6b886f"
      },
      "source": [
        "!pip install stable_baselines3 gymnasium"
      ],
      "execution_count": 2,
      "outputs": [
        {
          "output_type": "stream",
          "name": "stdout",
          "text": [
            "Collecting stable_baselines3\n",
            "  Downloading stable_baselines3-2.7.0-py3-none-any.whl.metadata (4.8 kB)\n",
            "Requirement already satisfied: gymnasium in /usr/local/lib/python3.12/dist-packages (1.2.0)\n",
            "Requirement already satisfied: numpy<3.0,>=1.20 in /usr/local/lib/python3.12/dist-packages (from stable_baselines3) (2.0.2)\n",
            "Requirement already satisfied: torch<3.0,>=2.3 in /usr/local/lib/python3.12/dist-packages (from stable_baselines3) (2.8.0+cu126)\n",
            "Requirement already satisfied: cloudpickle in /usr/local/lib/python3.12/dist-packages (from stable_baselines3) (3.1.1)\n",
            "Requirement already satisfied: pandas in /usr/local/lib/python3.12/dist-packages (from stable_baselines3) (2.2.2)\n",
            "Requirement already satisfied: matplotlib in /usr/local/lib/python3.12/dist-packages (from stable_baselines3) (3.10.0)\n",
            "Requirement already satisfied: typing-extensions>=4.3.0 in /usr/local/lib/python3.12/dist-packages (from gymnasium) (4.15.0)\n",
            "Requirement already satisfied: farama-notifications>=0.0.1 in /usr/local/lib/python3.12/dist-packages (from gymnasium) (0.0.4)\n",
            "Requirement already satisfied: filelock in /usr/local/lib/python3.12/dist-packages (from torch<3.0,>=2.3->stable_baselines3) (3.19.1)\n",
            "Requirement already satisfied: setuptools in /usr/local/lib/python3.12/dist-packages (from torch<3.0,>=2.3->stable_baselines3) (75.2.0)\n",
            "Requirement already satisfied: sympy>=1.13.3 in /usr/local/lib/python3.12/dist-packages (from torch<3.0,>=2.3->stable_baselines3) (1.13.3)\n",
            "Requirement already satisfied: networkx in /usr/local/lib/python3.12/dist-packages (from torch<3.0,>=2.3->stable_baselines3) (3.5)\n",
            "Requirement already satisfied: jinja2 in /usr/local/lib/python3.12/dist-packages (from torch<3.0,>=2.3->stable_baselines3) (3.1.6)\n",
            "Requirement already satisfied: fsspec in /usr/local/lib/python3.12/dist-packages (from torch<3.0,>=2.3->stable_baselines3) (2025.3.0)\n",
            "Requirement already satisfied: nvidia-cuda-nvrtc-cu12==12.6.77 in /usr/local/lib/python3.12/dist-packages (from torch<3.0,>=2.3->stable_baselines3) (12.6.77)\n",
            "Requirement already satisfied: nvidia-cuda-runtime-cu12==12.6.77 in /usr/local/lib/python3.12/dist-packages (from torch<3.0,>=2.3->stable_baselines3) (12.6.77)\n",
            "Requirement already satisfied: nvidia-cuda-cupti-cu12==12.6.80 in /usr/local/lib/python3.12/dist-packages (from torch<3.0,>=2.3->stable_baselines3) (12.6.80)\n",
            "Requirement already satisfied: nvidia-cudnn-cu12==9.10.2.21 in /usr/local/lib/python3.12/dist-packages (from torch<3.0,>=2.3->stable_baselines3) (9.10.2.21)\n",
            "Requirement already satisfied: nvidia-cublas-cu12==12.6.4.1 in /usr/local/lib/python3.12/dist-packages (from torch<3.0,>=2.3->stable_baselines3) (12.6.4.1)\n",
            "Requirement already satisfied: nvidia-cufft-cu12==11.3.0.4 in /usr/local/lib/python3.12/dist-packages (from torch<3.0,>=2.3->stable_baselines3) (11.3.0.4)\n",
            "Requirement already satisfied: nvidia-curand-cu12==10.3.7.77 in /usr/local/lib/python3.12/dist-packages (from torch<3.0,>=2.3->stable_baselines3) (10.3.7.77)\n",
            "Requirement already satisfied: nvidia-cusolver-cu12==11.7.1.2 in /usr/local/lib/python3.12/dist-packages (from torch<3.0,>=2.3->stable_baselines3) (11.7.1.2)\n",
            "Requirement already satisfied: nvidia-cusparse-cu12==12.5.4.2 in /usr/local/lib/python3.12/dist-packages (from torch<3.0,>=2.3->stable_baselines3) (12.5.4.2)\n",
            "Requirement already satisfied: nvidia-cusparselt-cu12==0.7.1 in /usr/local/lib/python3.12/dist-packages (from torch<3.0,>=2.3->stable_baselines3) (0.7.1)\n",
            "Requirement already satisfied: nvidia-nccl-cu12==2.27.3 in /usr/local/lib/python3.12/dist-packages (from torch<3.0,>=2.3->stable_baselines3) (2.27.3)\n",
            "Requirement already satisfied: nvidia-nvtx-cu12==12.6.77 in /usr/local/lib/python3.12/dist-packages (from torch<3.0,>=2.3->stable_baselines3) (12.6.77)\n",
            "Requirement already satisfied: nvidia-nvjitlink-cu12==12.6.85 in /usr/local/lib/python3.12/dist-packages (from torch<3.0,>=2.3->stable_baselines3) (12.6.85)\n",
            "Requirement already satisfied: nvidia-cufile-cu12==1.11.1.6 in /usr/local/lib/python3.12/dist-packages (from torch<3.0,>=2.3->stable_baselines3) (1.11.1.6)\n",
            "Requirement already satisfied: triton==3.4.0 in /usr/local/lib/python3.12/dist-packages (from torch<3.0,>=2.3->stable_baselines3) (3.4.0)\n",
            "Requirement already satisfied: contourpy>=1.0.1 in /usr/local/lib/python3.12/dist-packages (from matplotlib->stable_baselines3) (1.3.3)\n",
            "Requirement already satisfied: cycler>=0.10 in /usr/local/lib/python3.12/dist-packages (from matplotlib->stable_baselines3) (0.12.1)\n",
            "Requirement already satisfied: fonttools>=4.22.0 in /usr/local/lib/python3.12/dist-packages (from matplotlib->stable_baselines3) (4.59.2)\n",
            "Requirement already satisfied: kiwisolver>=1.3.1 in /usr/local/lib/python3.12/dist-packages (from matplotlib->stable_baselines3) (1.4.9)\n",
            "Requirement already satisfied: packaging>=20.0 in /usr/local/lib/python3.12/dist-packages (from matplotlib->stable_baselines3) (25.0)\n",
            "Requirement already satisfied: pillow>=8 in /usr/local/lib/python3.12/dist-packages (from matplotlib->stable_baselines3) (11.3.0)\n",
            "Requirement already satisfied: pyparsing>=2.3.1 in /usr/local/lib/python3.12/dist-packages (from matplotlib->stable_baselines3) (3.2.3)\n",
            "Requirement already satisfied: python-dateutil>=2.7 in /usr/local/lib/python3.12/dist-packages (from matplotlib->stable_baselines3) (2.9.0.post0)\n",
            "Requirement already satisfied: pytz>=2020.1 in /usr/local/lib/python3.12/dist-packages (from pandas->stable_baselines3) (2025.2)\n",
            "Requirement already satisfied: tzdata>=2022.7 in /usr/local/lib/python3.12/dist-packages (from pandas->stable_baselines3) (2025.2)\n",
            "Requirement already satisfied: six>=1.5 in /usr/local/lib/python3.12/dist-packages (from python-dateutil>=2.7->matplotlib->stable_baselines3) (1.17.0)\n",
            "Requirement already satisfied: mpmath<1.4,>=1.1.0 in /usr/local/lib/python3.12/dist-packages (from sympy>=1.13.3->torch<3.0,>=2.3->stable_baselines3) (1.3.0)\n",
            "Requirement already satisfied: MarkupSafe>=2.0 in /usr/local/lib/python3.12/dist-packages (from jinja2->torch<3.0,>=2.3->stable_baselines3) (3.0.2)\n",
            "Downloading stable_baselines3-2.7.0-py3-none-any.whl (187 kB)\n",
            "\u001b[2K   \u001b[90m━━━━━━━━━━━━━━━━━━━━━━━━━━━━━━━━━━━━━━━━\u001b[0m \u001b[32m187.2/187.2 kB\u001b[0m \u001b[31m3.4 MB/s\u001b[0m eta \u001b[36m0:00:00\u001b[0m\n",
            "\u001b[?25hInstalling collected packages: stable_baselines3\n",
            "Successfully installed stable_baselines3-2.7.0\n"
          ]
        }
      ]
    },
    {
      "cell_type": "code",
      "metadata": {
        "id": "5d0b43fa"
      },
      "source": [
        "!pip install shimmy>=2.0"
      ],
      "execution_count": 4,
      "outputs": []
    }
  ]
}